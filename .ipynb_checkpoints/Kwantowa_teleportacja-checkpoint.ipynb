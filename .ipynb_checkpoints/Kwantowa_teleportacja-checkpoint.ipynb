{
 "cells": [
  {
   "cell_type": "markdown",
   "id": "84a055fd-6aaf-4c7e-b772-54cd15643e90",
   "metadata": {},
   "source": [
    "# Teleportacja kwantowa"
   ]
  },
  {
   "cell_type": "code",
   "execution_count": 1,
   "id": "ab6ff800-7433-409c-ac7d-561e30a5bfda",
   "metadata": {},
   "outputs": [],
   "source": [
    "#importujemy package cirq\n",
    "try:\n",
    "    import cirq\n",
    "except ImportError:\n",
    "    print(\"installing cirq...\")\n",
    "    !pip install cirq --quiet\n",
    "    import cirq\n",
    "    print(\"installed cirq.\")\n",
    "\n",
    "#importujemy numpy\n",
    "import numpy as np"
   ]
  },
  {
   "cell_type": "markdown",
   "id": "b2789c4c-293c-4205-8d83-965431d2f13c",
   "metadata": {},
   "source": [
    "# Układ do teleportacji kwantowej"
   ]
  },
  {
   "cell_type": "code",
   "execution_count": 13,
   "id": "d41dd947-ba5e-4b2a-a8b2-6ebc67fd7105",
   "metadata": {},
   "outputs": [
    {
     "name": "stdout",
     "output_type": "stream",
     "text": [
      "Układ do teleportacji kwantowej\n",
      "Message: ────X^0.25───────@───H───M───────@───\n",
      "                          │       │       │\n",
      "Receiver: ────────────X───┼───────┼───X───@───\n",
      "                      │   │       │   │\n",
      "Sender: ─────H────────@───X───────M───@───────\n"
     ]
    }
   ],
   "source": [
    "# 1. Tworzymy bramkę do ustalenia stanu qubitu przechowującego informację\n",
    "init_message_gate = cirq.X**0.25\n",
    "\n",
    "# 2. Układ będzie się składał z trzech qubitów\n",
    "msg = cirq.NamedQubit(\"Message\") # qubit przechowujący informację\n",
    "sndr = cirq.NamedQubit(\"Sender\") # qubit nadawcy wiadomości\n",
    "rcvr = cirq.NamedQubit(\"Receiver\") # qubit odbircy wiadomości\n",
    "\n",
    "# 3. Tworzymy układ\n",
    "tp_circuit = cirq.Circuit()\n",
    "\n",
    "# 3a. Operacja inicjalizacji qubitu msg przy użyciu bramki init_message_gate\n",
    "# oryginalny kubit o stanie |O> = a|0> + b|1>\n",
    "tp_circuit.append(init_message_gate(msg))\n",
    "\n",
    "# 3b. Tworzenie stanu Bella dwóch qubitów: sndr i rcvr\n",
    "tp_circuit.append([cirq.H(sndr),cirq.CNOT(sndr,rcvr)])\n",
    "\n",
    "# 3c. Pomiar Bella informacji msg i qubitu sndr\n",
    "tp_circuit.append([cirq.CNOT(msg,sndr), cirq.H(msg), cirq.measure(sndr,msg)])\n",
    "\n",
    "# 3d. Odtworzenie informacji w qubicie rcvr\n",
    "tp_circuit.append([cirq.CNOT(sndr,rcvr), cirq.CZ(msg, rcvr)])\n",
    "\n",
    "# 4. Wyświetlamy układ\n",
    "print(\"Układ do teleportacji kwantowej\")\n",
    "print(tp_circuit)"
   ]
  },
  {
   "cell_type": "code",
   "execution_count": 14,
   "id": "89fc2628-e7f9-4c27-b9fe-a0eb53099a15",
   "metadata": {},
   "outputs": [
    {
     "name": "stdout",
     "output_type": "stream",
     "text": [
      "Wektor Blocha dla qubitu msg\n",
      "[-0.    -0.707  0.707]\n"
     ]
    }
   ],
   "source": [
    "#Przeprowadźmy symulacje układu\n",
    "# 5. Sprawdzamy treść wiadomości msg\n",
    "message = cirq.Circuit(init_message_gate.on(cirq.NamedQubit(\"Message\"))).final_state_vector() #pobieramy wektor stanu wiadnomości\n",
    "message_bloch_vector = cirq.bloch_vector_from_state_vector(message, index = 0)\n",
    "\n",
    "print(\"Wektor Blocha dla qubitu msg\")\n",
    "print(np.round(message_bloch_vector,3))"
   ]
  },
  {
   "cell_type": "code",
   "execution_count": 15,
   "id": "71b456fa-7e19-4775-82a7-4fcaa1834ad4",
   "metadata": {},
   "outputs": [
    {
     "name": "stdout",
     "output_type": "stream",
     "text": [
      "Wiadomość otrzymana przez odbiorcę\n",
      "[ 0.    -0.707  0.707]\n"
     ]
    }
   ],
   "source": [
    "# 6. Dokonujemy symulacji układu do teleportacji kwantowej\n",
    "sim = cirq.Simulator()\n",
    "\n",
    "result = sim.simulate(tp_circuit)\n",
    "\n",
    "# 7. Sprawdzamy informację uzyskaną przez rcvr\n",
    "rcvr_bloch_vector = cirq.bloch_vector_from_state_vector(result.final_state_vector, index = 1)\n",
    "\n",
    "print(\"Wiadomość otrzymana przez odbiorcę\")\n",
    "print(np.round(rcvr_bloch_vector,3))"
   ]
  },
  {
   "cell_type": "code",
   "execution_count": null,
   "id": "90765c54-9a60-4615-8f95-3dbd34437321",
   "metadata": {},
   "outputs": [],
   "source": []
  }
 ],
 "metadata": {
  "kernelspec": {
   "display_name": "Python 3 (ipykernel)",
   "language": "python",
   "name": "python3"
  },
  "language_info": {
   "codemirror_mode": {
    "name": "ipython",
    "version": 3
   },
   "file_extension": ".py",
   "mimetype": "text/x-python",
   "name": "python",
   "nbconvert_exporter": "python",
   "pygments_lexer": "ipython3",
   "version": "3.9.7"
  }
 },
 "nbformat": 4,
 "nbformat_minor": 5
}
