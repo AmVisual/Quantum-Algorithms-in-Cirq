{
 "cells": [
  {
   "cell_type": "markdown",
   "id": "78b555ec-094a-44ce-9656-8ee4e0f43866",
   "metadata": {},
   "source": [
    "# Algorytm Grovera"
   ]
  },
  {
   "cell_type": "code",
   "execution_count": 2,
   "id": "011a5fd2-1f97-44bb-89b1-6d5ad3b43ef0",
   "metadata": {},
   "outputs": [],
   "source": [
    "#importujemy package cirq\n",
    "try:\n",
    "    import cirq\n",
    "except ImportError:\n",
    "    print(\"installing cirq...\")\n",
    "    !pip install cirq --quiet\n",
    "    import cirq\n",
    "    print(\"installed cirq.\")\n",
    "\n",
    "#importujemy numpy\n",
    "import numpy as np\n",
    "import random"
   ]
  },
  {
   "cell_type": "markdown",
   "id": "4554dcf3-4b22-405a-9884-0462c00a3b88",
   "metadata": {},
   "source": [
    "Rozważmy ciągi bitów o długiści n oraz element $x' \\in {0,1}^n$ - jest to szukany ciąg znaków. Potrzebujemy funkcję $f: {0,1}^n \\rightarrow {0,1}$, która zdefiniowana jest w następujący sposób:\n",
    "$f(x) = 1$ gdy $x=x'$, $f(x)=0$ gdy $x \\neq x'$"
   ]
  },
  {
   "cell_type": "code",
   "execution_count": 3,
   "id": "a6069c81-fe34-4379-8b32-94be5327b576",
   "metadata": {},
   "outputs": [],
   "source": [
    "#Liczba kubitów\n",
    "nqubits = 2\n",
    "\n",
    "#Deklarujemy rejestr kubitów i kubit posiłkowy (ancillary)\n",
    "qubits = cirq.LineQubit.range(nqubits)\n",
    "ancilla = cirq.NamedQubit(\"Ancilla\")"
   ]
  },
  {
   "cell_type": "code",
   "execution_count": 4,
   "id": "51eeb2f3-866d-41cf-9781-d2017b31deb1",
   "metadata": {},
   "outputs": [],
   "source": [
    "def make_oracle(qubits, ancilla, xprime):\n",
    "    # Odwraca szukany stan\n",
    "    # Negacja bitów zerowych\n",
    "    yield (cirq.X(q) for (q,bit) in zip(qubits,xprime) if not bit)\n",
    "    # Bramka TOFFOLI\n",
    "    yield (cirq.TOFFOLI(qubits[0], qubits[1], ancilla))\n",
    "    # Negacja bitów zerowych\n",
    "    yield (cirq.X(q) for (q,bit) in zip(qubits,xprime) if not bit)\n",
    "    "
   ]
  },
  {
   "cell_type": "code",
   "execution_count": 5,
   "id": "c7c5b2e6-97ad-44d3-9efa-68fbbf4daa8b",
   "metadata": {},
   "outputs": [],
   "source": [
    "def grover_iteration(qubits, ancilla, oracle):\n",
    "    circuit = cirq.Circuit()\n",
    "    \n",
    "    # Tworzymy jednakowe superpozycje wejściowych kubitów\n",
    "    circuit.append(cirq.H.on_each(*qubits))\n",
    "    \n",
    "    # Ustawiamy kubit wyjściowy w stanie |->\n",
    "    circuit.append([cirq.X(ancilla), cirq.H(ancilla)])\n",
    "    \n",
    "    # Operator \"wyroczni\"\n",
    "    circuit.append(oracle)\n",
    "    \n",
    "    # Konstruujemy operator Grovera dla nqubits = 2\n",
    "    circuit.append(cirq.H.on_each(*qubits))\n",
    "    circuit.append(cirq.X.on_each(*qubits))\n",
    "    circuit.append(cirq.H.on(qubits[1]))\n",
    "    circuit.append(cirq.CNOT(qubits[0], qubits[1]))\n",
    "    circuit.append(cirq.H.on(qubits[1]))\n",
    "    circuit.append(cirq.X.on_each(*qubits))\n",
    "    circuit.append(cirq.H.on_each(*qubits))\n",
    "    \n",
    "    # Dokonujemy pomiaru kubitów\n",
    "    circuit.append(cirq.measure(*qubits, key=\"result\"))\n",
    "    \n",
    "    return circuit\n",
    "    "
   ]
  },
  {
   "cell_type": "code",
   "execution_count": 28,
   "id": "1f7117b3-8a0b-4348-aa29-dce28b70208f",
   "metadata": {},
   "outputs": [
    {
     "name": "stdout",
     "output_type": "stream",
     "text": [
      "Wylosowany ciąg: [0, 0]\n"
     ]
    }
   ],
   "source": [
    "# Losujemy x'\n",
    "xprime = [random.randint(0,1) for _ in range(nqubits)]\n",
    "print(f\"Wylosowany ciąg: {xprime}\")"
   ]
  },
  {
   "cell_type": "code",
   "execution_count": 30,
   "id": "a0cc1f08-3722-4248-92f1-7f15c1a8ea89",
   "metadata": {},
   "outputs": [
    {
     "name": "stdout",
     "output_type": "stream",
     "text": [
      "Układ do algorytmu Grovera:\n",
      "0: ─────────H───X───@───X───H───X───────@───X───H───────M('result')───\n",
      "                    │                   │               │\n",
      "1: ─────────H───X───@───X───H───X───H───X───H───X───H───M─────────────\n",
      "                    │\n",
      "Ancilla: ───X───H───X─────────────────────────────────────────────────\n"
     ]
    }
   ],
   "source": [
    "# Tworzymy układ do algorytmu Grovera\n",
    "\n",
    "# Generujemy operator \"wyroczni\"\n",
    "oracle = make_oracle(qubits, ancilla, xprime)\n",
    "\n",
    "# Układ\n",
    "circuit = grover_iteration(qubits, ancilla, oracle)\n",
    "print(\"Układ do algorytmu Grovera:\")\n",
    "print(circuit)"
   ]
  },
  {
   "cell_type": "code",
   "execution_count": 31,
   "id": "3ba5d076-094c-4826-af46-34b966e47942",
   "metadata": {},
   "outputs": [
    {
     "name": "stdout",
     "output_type": "stream",
     "text": [
      "Zebrane wyniki:\n",
      "Counter({'00': 10})\n",
      "\n",
      "Najczestszy rezultat: 00\n",
      "Czy znaleziono? True\n"
     ]
    }
   ],
   "source": [
    "# Symylacja układu\n",
    "\n",
    "#Funkcja pomocnicza\n",
    "def bitstring(bits):\n",
    "    return \"\".join(str(int(b)) for b in bits)\n",
    "\n",
    "# Symulacja\n",
    "simulator = cirq.Simulator()\n",
    "result = simulator.run(circuit, repetitions=10)\n",
    "\n",
    "# Wyswietl rezultat\n",
    "frequencies = result.histogram(key = \"result\", fold_func = bitstring)\n",
    "print(\"Zebrane wyniki:\\n{}\".format(frequencies))\n",
    "\n",
    "#Sprawdzenie, czy znaleziono prawidłową wartość\n",
    "most_common_bitstring = frequencies.most_common(1)[0][0]\n",
    "print(\"\\nNajczestszy rezultat: {}\".format(most_common_bitstring))\n",
    "print(\"Czy znaleziono? {}\".format(most_common_bitstring == bitstring(xprime)))"
   ]
  },
  {
   "cell_type": "code",
   "execution_count": 32,
   "id": "f92f5e6a-4d56-489a-81d9-f232f88be889",
   "metadata": {},
   "outputs": [
    {
     "data": {
      "image/png": "[encoded data removed]",
      "text/plain": [
       "<Figure size 432x288 with 1 Axes>"
      ]
     },
     "metadata": {
      "needs_background": "light"
     },
     "output_type": "display_data"
    }
   ],
   "source": [
    "import matplotlib.pyplot as plt\n",
    "\n",
    "cirq.plot_state_histogram(result, plt.subplot())\n",
    "plt.show()"
   ]
  },
  {
   "cell_type": "code",
   "execution_count": null,
   "id": "2f3c3b2b-9bb4-493d-8e17-3cd761b68291",
   "metadata": {},
   "outputs": [],
   "source": []
  }
 ],
 "metadata": {
  "kernelspec": {
   "display_name": "Python 3 (ipykernel)",
   "language": "python",
   "name": "python3"
  },
  "language_info": {
   "codemirror_mode": {
    "name": "ipython",
    "version": 3
   },
   "file_extension": ".py",
   "mimetype": "text/x-python",
   "name": "python",
   "nbconvert_exporter": "python",
   "pygments_lexer": "ipython3",
   "version": "3.9.7"
  }
 },
 "nbformat": 4,
 "nbformat_minor": 5
}
